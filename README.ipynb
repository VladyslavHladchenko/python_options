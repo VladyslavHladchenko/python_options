{
 "cells": [
  {
   "attachments": {},
   "cell_type": "markdown",
   "metadata": {},
   "source": [
    "*** README.md is generated with `jupyter nbconvert --execute --to markdown README.ipynb` *** \n",
    "\n",
    "requires python >=3.10"
   ]
  },
  {
   "cell_type": "code",
   "execution_count": 14,
   "metadata": {},
   "outputs": [
    {
     "name": "stdout",
     "output_type": "stream",
     "text": [
      "The autoreload extension is already loaded. To reload it, use:\n",
      "  %reload_ext autoreload\n"
     ]
    }
   ],
   "source": [
    "%load_ext autoreload\n",
    "%autoreload 2\n",
    "from ExampleOptions import *"
   ]
  },
  {
   "cell_type": "markdown",
   "metadata": {},
   "source": [
    "Example class with options:"
   ]
  },
  {
   "cell_type": "code",
   "execution_count": 15,
   "metadata": {},
   "outputs": [
    {
     "data": {
      "text/markdown": [
       "```python\n",
       "class ExampleOptions(OptionsBase):\n",
       "    test: bool = option('-t', action=\"store_true\", help=\"Test only\")\n",
       "    data: str = option(default='MNIST', help=\"MNIST\")\n",
       "    W: int =  option(\"-W\", default=3, help=\"quantization levels per weight (0-continuous)\")\n",
       "    net: str = option(default=\"net1\", choices=['net1', 'net2'], help='nets')\n",
       "    ikd: str = option(\"--idk\" , \"-k\", help='lll')\n",
       "    cnst: int = option(\"-c\" , help='store const', action='store_const', const=42 )\n",
       "    method: MethodA|MethodB = option()  # Union of types\n",
       "    method2: MethodA = option()  # one type\n",
       "\n",
       "    @property\n",
       "    def netUpper(self):\n",
       "        return self.net.upper()\n",
       "\n",
       "```"
      ],
      "text/plain": [
       "class ExampleOptions(OptionsBase):\n",
       "    test: bool = option('-t', action=\"store_true\", help=\"Test only\")\n",
       "    data: str = option(default='MNIST', help=\"MNIST\")\n",
       "    W: int =  option(\"-W\", default=3, help=\"quantization levels per weight (0-continuous)\")\n",
       "    net: str = option(default=\"net1\", choices=['net1', 'net2'], help='nets')\n",
       "    ikd: str = option(\"--idk\" , \"-k\", help='lll')\n",
       "    cnst: int = option(\"-c\" , help='store const', action='store_const', const=42 )\n",
       "    method: MethodA|MethodB = option()  # Union of types\n",
       "    method2: MethodA = option()  # one type\n",
       "\n",
       "    @property\n",
       "    def netUpper(self):\n",
       "        return self.net.upper()\n"
      ]
     },
     "metadata": {},
     "output_type": "display_data"
    }
   ],
   "source": [
    "show_class(ExampleOptions)"
   ]
  },
  {
   "cell_type": "markdown",
   "metadata": {},
   "source": [
    "## 1. Ways to create options instance:"
   ]
  },
  {
   "cell_type": "markdown",
   "metadata": {},
   "source": [
    "1. Constructor with kwargs:\n"
   ]
  },
  {
   "cell_type": "code",
   "execution_count": 16,
   "metadata": {},
   "outputs": [
    {
     "name": "stdout",
     "output_type": "stream",
     "text": [
      "--test False --data MNIST --W 6 --net net2 --ikd abc --cnst None --method None --method2 None\n"
     ]
    }
   ],
   "source": [
    "o = ExampleOptions(W=6, net='net2', ikd='abc')\n",
    "print(o)"
   ]
  },
  {
   "cell_type": "markdown",
   "metadata": {},
   "source": [
    "2. Parse from string with static method: "
   ]
  },
  {
   "cell_type": "code",
   "execution_count": 17,
   "metadata": {
    "tags": []
   },
   "outputs": [
    {
     "name": "stdout",
     "output_type": "stream",
     "text": [
      "--test False --data MNIST --W 7 --net net2 --ikd aaa --cnst None --method None --method2 None\n"
     ]
    }
   ],
   "source": [
    "o = ExampleOptions.parse_args(\"--W 7 --net net2 --ikd aaa\")\n",
    "print(o)"
   ]
  },
  {
   "cell_type": "markdown",
   "metadata": {},
   "source": [
    "3. Parse script arguments with a static method:"
   ]
  },
  {
   "cell_type": "code",
   "execution_count": 18,
   "metadata": {},
   "outputs": [
    {
     "name": "stdout",
     "output_type": "stream",
     "text": [
      "Overwriting example_parse_args.py\n"
     ]
    }
   ],
   "source": [
    "%%writefile example_parse_args.py\n",
    "from ExampleOptions import *\n",
    "if __name__ == \"__main__\":\n",
    "    o = ExampleOptions.parse_args()\n",
    "    print(o)"
   ]
  },
  {
   "cell_type": "code",
   "execution_count": 19,
   "metadata": {
    "vscode": {
     "languageId": "shellscript"
    }
   },
   "outputs": [
    {
     "name": "stdout",
     "output_type": "stream",
     "text": [
      "--test True --data data_for_example_parse_args --W 414 --net net1 --ikd None --cnst None --method None --method2 None\n"
     ]
    }
   ],
   "source": [
    "%run example_parse_args.py --W 414 -t --data data_for_example_parse_args"
   ]
  },
  {
   "cell_type": "markdown",
   "metadata": {},
   "source": [
    "## 2. Ways to change field values:"
   ]
  },
  {
   "cell_type": "markdown",
   "metadata": {},
   "source": [
    "1. Set fields"
   ]
  },
  {
   "cell_type": "code",
   "execution_count": 20,
   "metadata": {},
   "outputs": [
    {
     "name": "stdout",
     "output_type": "stream",
     "text": [
      "--test False --data MNIST --W 4 --net net1 --ikd None --cnst None --method None --method2 None\n"
     ]
    }
   ],
   "source": [
    "o = ExampleOptions()\n",
    "o.W = 4\n",
    "print(o)"
   ]
  },
  {
   "cell_type": "markdown",
   "metadata": {},
   "source": [
    "2. set multiple values with `.set_fields()` method, same way as with constructor"
   ]
  },
  {
   "cell_type": "code",
   "execution_count": 21,
   "metadata": {},
   "outputs": [
    {
     "name": "stdout",
     "output_type": "stream",
     "text": [
      "--test True --data MNIST --W 6 --net net1 --ikd None --cnst None --method None --method2 None\n"
     ]
    }
   ],
   "source": [
    "o = ExampleOptions()\n",
    "o.set_fields(W=6,test=True)\n",
    "print(o)"
   ]
  },
  {
   "cell_type": "markdown",
   "metadata": {},
   "source": [
    "3. Parse from string"
   ]
  },
  {
   "cell_type": "code",
   "execution_count": 22,
   "metadata": {},
   "outputs": [
    {
     "name": "stdout",
     "output_type": "stream",
     "text": [
      "--test True --data DATA --W 5 --net net1 --ikd None --cnst None --method None --method2 None\n"
     ]
    }
   ],
   "source": [
    "o = ExampleOptions()\n",
    "o.W = 4\n",
    "o.parse(\"-W 5 --data DATA -t\")\n",
    "print(o)"
   ]
  },
  {
   "cell_type": "markdown",
   "metadata": {},
   "source": [
    "## 3. Values check:"
   ]
  },
  {
   "cell_type": "markdown",
   "metadata": {},
   "source": [
    "1. Attempt to set an unknown field will not work. Throws `OptionsError` exception and logs error."
   ]
  },
  {
   "cell_type": "code",
   "execution_count": 23,
   "metadata": {},
   "outputs": [
    {
     "name": "stderr",
     "output_type": "stream",
     "text": [
      "ERROR: B is not among ExampleOptions type fields: ['test', 'data', 'W', 'net', 'ikd', 'cnst', 'method', 'method2']\n",
      "ERROR: Constraints check failed for ExampleOptions field 'B' and value '4': B is not among ExampleOptions type fields: ['test', 'data', 'W', 'net', 'ikd', 'cnst', 'method', 'method2']\n"
     ]
    }
   ],
   "source": [
    "o = ExampleOptions()\n",
    "try:\n",
    "    o.B=4\n",
    "    raise Exception('this should not happen, the above code must throw')\n",
    "except OptionsError as e:\n",
    "    pass"
   ]
  },
  {
   "cell_type": "markdown",
   "metadata": {},
   "source": [
    "2.  Attempt to set incorrect type will not work. Throws `OptionsError` exception and logs error."
   ]
  },
  {
   "cell_type": "code",
   "execution_count": 24,
   "metadata": {},
   "outputs": [
    {
     "name": "stderr",
     "output_type": "stream",
     "text": [
      "ERROR: type <class 'str'> does not match field type <class 'int'>.\n",
      "ERROR: Constraints check failed for ExampleOptions field 'W' and value 'not a number': type <class 'str'> does not match field type <class 'int'>.\n"
     ]
    }
   ],
   "source": [
    "o = ExampleOptions()\n",
    "try:\n",
    "    o.W='not a number'\n",
    "    raise Exception('this should not happen, the above code must throw')\n",
    "except OptionsError as e:\n",
    "    pass"
   ]
  },
  {
   "cell_type": "markdown",
   "metadata": {},
   "source": [
    "2. Set wrong value for field with `choices`. Throws `OptionsError` exception and logs error."
   ]
  },
  {
   "cell_type": "code",
   "execution_count": 25,
   "metadata": {},
   "outputs": [
    {
     "name": "stderr",
     "output_type": "stream",
     "text": [
      "ERROR: invalid choice 'net3', (choose from ['net1', 'net2', None]).\n",
      "ERROR: Constraints check failed for ExampleOptions field 'net' and value 'net3': invalid choice 'net3', (choose from ['net1', 'net2', None]).\n"
     ]
    }
   ],
   "source": [
    "o = ExampleOptions()\n",
    "try:\n",
    "    o.net='net3'\n",
    "    raise Exception('this should not happen, the above code must throw')\n",
    "except OptionsError as e:\n",
    "    pass"
   ]
  },
  {
   "cell_type": "markdown",
   "metadata": {},
   "source": [
    "3. Any field can be set to None "
   ]
  },
  {
   "cell_type": "code",
   "execution_count": 26,
   "metadata": {},
   "outputs": [
    {
     "name": "stdout",
     "output_type": "stream",
     "text": [
      "--test False --data MNIST --W 3 --net None --ikd None --cnst None --method None --method2 None\n"
     ]
    }
   ],
   "source": [
    "o = ExampleOptions()\n",
    "o.net=None\n",
    "print(o)"
   ]
  },
  {
   "cell_type": "markdown",
   "metadata": {},
   "source": [
    "4. Same rules work when parsing from string or from script arguments."
   ]
  },
  {
   "cell_type": "markdown",
   "metadata": {},
   "source": [
    "5. Field with action `store_true` field can be set to False.Works in a similar way with `store_false`"
   ]
  },
  {
   "cell_type": "code",
   "execution_count": 27,
   "metadata": {},
   "outputs": [
    {
     "name": "stdout",
     "output_type": "stream",
     "text": [
      "--test False --data MNIST --W 3 --net net1 --ikd None --cnst None --method None --method2 None\n",
      "--test True --data MNIST --W 3 --net net1 --ikd None --cnst None --method None --method2 None\n",
      "--test False --data MNIST --W 3 --net net1 --ikd None --cnst None --method None --method2 None\n"
     ]
    }
   ],
   "source": [
    "o = ExampleOptions()\n",
    "print(o)\n",
    "o.parse('-t')\n",
    "print(o)\n",
    "o.parse('-t False')\n",
    "print(o)"
   ]
  },
  {
   "cell_type": "markdown",
   "metadata": {},
   "source": [
    "## 4. Options to string:"
   ]
  },
  {
   "cell_type": "markdown",
   "metadata": {},
   "source": [
    "1. By default conversion to string preserves all fields, as seen in previous examples."
   ]
  },
  {
   "cell_type": "markdown",
   "metadata": {},
   "source": [
    "2. Default values can be omitted with `.to_str(include_defaults=False)` or `o.str_wo_defaults` property:"
   ]
  },
  {
   "cell_type": "code",
   "execution_count": 28,
   "metadata": {},
   "outputs": [
    {
     "name": "stdout",
     "output_type": "stream",
     "text": [
      "--data notdefault --ikd idk\n",
      "--data notdefault --ikd idk\n"
     ]
    }
   ],
   "source": [
    "o = ExampleOptions()\n",
    "o.parse('--ikd idk')\n",
    "o.data=\"notdefault\"\n",
    "\n",
    "print(o.to_str(include_defaults=False))\n",
    "print(o.str_wo_defaults)"
   ]
  },
  {
   "cell_type": "markdown",
   "metadata": {},
   "source": [
    "## 5. Properties"
   ]
  },
  {
   "cell_type": "code",
   "execution_count": 29,
   "metadata": {},
   "outputs": [
    {
     "name": "stdout",
     "output_type": "stream",
     "text": [
      "NET1\n",
      "None\n"
     ]
    }
   ],
   "source": [
    "o = ExampleOptions()\n",
    "print(o.netUpper)\n",
    "print(o.method)"
   ]
  },
  {
   "cell_type": "markdown",
   "metadata": {},
   "source": [
    "## 6. Option field of custom type:"
   ]
  },
  {
   "cell_type": "markdown",
   "metadata": {},
   "source": [
    "1. Fields can have OptionsBase derived type or union of OptionsBase derived types:"
   ]
  },
  {
   "cell_type": "code",
   "execution_count": 30,
   "metadata": {},
   "outputs": [
    {
     "data": {
      "text/markdown": [
       "```python\n",
       "class ExampleOptions(OptionsBase):\n",
       "    test: bool = option('-t', action=\"store_true\", help=\"Test only\")\n",
       "    data: str = option(default='MNIST', help=\"MNIST\")\n",
       "    W: int =  option(\"-W\", default=3, help=\"quantization levels per weight (0-continuous)\")\n",
       "    net: str = option(default=\"net1\", choices=['net1', 'net2'], help='nets')\n",
       "    ikd: str = option(\"--idk\" , \"-k\", help='lll')\n",
       "    cnst: int = option(\"-c\" , help='store const', action='store_const', const=42 )\n",
       "    method: MethodA|MethodB = option()  # Union of types\n",
       "    method2: MethodA = option()  # one type\n",
       "\n",
       "    @property\n",
       "    def netUpper(self):\n",
       "        return self.net.upper()\n",
       "\n",
       "```"
      ],
      "text/plain": [
       "class ExampleOptions(OptionsBase):\n",
       "    test: bool = option('-t', action=\"store_true\", help=\"Test only\")\n",
       "    data: str = option(default='MNIST', help=\"MNIST\")\n",
       "    W: int =  option(\"-W\", default=3, help=\"quantization levels per weight (0-continuous)\")\n",
       "    net: str = option(default=\"net1\", choices=['net1', 'net2'], help='nets')\n",
       "    ikd: str = option(\"--idk\" , \"-k\", help='lll')\n",
       "    cnst: int = option(\"-c\" , help='store const', action='store_const', const=42 )\n",
       "    method: MethodA|MethodB = option()  # Union of types\n",
       "    method2: MethodA = option()  # one type\n",
       "\n",
       "    @property\n",
       "    def netUpper(self):\n",
       "        return self.net.upper()\n"
      ]
     },
     "metadata": {},
     "output_type": "display_data"
    }
   ],
   "source": [
    "show_class(ExampleOptions)"
   ]
  },
  {
   "cell_type": "markdown",
   "metadata": {},
   "source": [
    "2. Nested fields types must inherit OptionsBase"
   ]
  },
  {
   "cell_type": "code",
   "execution_count": 31,
   "metadata": {},
   "outputs": [
    {
     "data": {
      "text/markdown": [
       "```python\n",
       "class MethodB(OptionsBase):\n",
       "    bbool: bool = option( action=\"store_true\")\n",
       "    bint : int  = option()\n",
       "\n",
       "```"
      ],
      "text/plain": [
       "class MethodB(OptionsBase):\n",
       "    bbool: bool = option( action=\"store_true\")\n",
       "    bint : int  = option()\n"
      ]
     },
     "metadata": {},
     "output_type": "display_data"
    }
   ],
   "source": [
    "show_class(MethodB)"
   ]
  },
  {
   "cell_type": "markdown",
   "metadata": {},
   "source": [
    "3. Parsing:"
   ]
  },
  {
   "cell_type": "code",
   "execution_count": 32,
   "metadata": {},
   "outputs": [
    {
     "name": "stdout",
     "output_type": "stream",
     "text": [
      "--method 'MethodB(bbool=False,bint=None)' --method2 'MethodA(abool=True,aint=7,astr=None)'\n"
     ]
    }
   ],
   "source": [
    "o = ExampleOptions.parse_args(\"--method MethodB() --method2 MethodA(abool=True,aint=7)\")\n",
    "print(o.str_wo_defaults)"
   ]
  },
  {
   "cell_type": "markdown",
   "metadata": {},
   "source": [
    "4. If passed in command line, '(' and ')' must be escaped or whole field surrounded with quotes:"
   ]
  },
  {
   "cell_type": "code",
   "execution_count": 33,
   "metadata": {
    "vscode": {
     "languageId": "shellscript"
    }
   },
   "outputs": [
    {
     "name": "stdout",
     "output_type": "stream",
     "text": [
      "--test False --data MNIST --W 3 --net net1 --ikd None --cnst None --method 'MethodB(bbool=False,bint=None)' --method2 'MethodA(abool=True,aint=7,astr=None)'\n"
     ]
    }
   ],
   "source": [
    "%%bash\n",
    "python example_parse_args.py --method MethodB\\(\\) --method2 'MethodA(abool=True,aint=7)'"
   ]
  },
  {
   "cell_type": "markdown",
   "metadata": {},
   "source": [
    "5. Default value is set with an object instance:\n",
    "```python\n",
    "class ExampleOptions(OptionsBase):\n",
    "    ...\n",
    "    method2: MethodA = option(default=MethodA(abool=True,aint=7))\n",
    "```"
   ]
  },
  {
   "cell_type": "markdown",
   "metadata": {},
   "source": [
    "### 6.1 Variants"
   ]
  },
  {
   "cell_type": "markdown",
   "metadata": {},
   "source": [
    "With `@variant` it is possible to give a suboption a shorter name and predefine some of its fields.\n",
    "\n",
    "First argument to `@variant` is name, options for given name are passed as kwargs, these options override the default field values."
   ]
  },
  {
   "cell_type": "code",
   "execution_count": 34,
   "metadata": {},
   "outputs": [
    {
     "data": {
      "text/markdown": [
       "```python\n",
       "@variant(\"A\", abool=True, aint=1)\n",
       "@variant(\"AA\", abool=False, aint=2, astr=\"This\")\n",
       "@variant(\"AAA\", aint=2, astr=\"AAA!\")\n",
       "class MethodA(OptionsBase):\n",
       "    abool: bool = option(action=\"store_true\")\n",
       "    aint : int  = option()\n",
       "    astr : str  = option()\n",
       "\n",
       "```"
      ],
      "text/plain": [
       "@variant(\"A\", abool=True, aint=1)\n",
       "@variant(\"AA\", abool=False, aint=2, astr=\"This\")\n",
       "@variant(\"AAA\", aint=2, astr=\"AAA!\")\n",
       "class MethodA(OptionsBase):\n",
       "    abool: bool = option(action=\"store_true\")\n",
       "    aint : int  = option()\n",
       "    astr : str  = option()\n"
      ]
     },
     "metadata": {},
     "output_type": "display_data"
    }
   ],
   "source": [
    "show_class(MethodA)"
   ]
  },
  {
   "cell_type": "markdown",
   "metadata": {},
   "source": [
    "Options that passed to `@variant` are checked for correctness. (Same way as during OptionsBase field set)."
   ]
  },
  {
   "cell_type": "code",
   "execution_count": 35,
   "metadata": {},
   "outputs": [
    {
     "name": "stderr",
     "output_type": "stream",
     "text": [
      "ERROR: type <class 'str'> does not match field type <class 'bool'>.\n",
      "ERROR: Constraints check failed for SomeNestedOption field 'abool' and value 'not a bool :( ': type <class 'str'> does not match field type <class 'bool'>.\n"
     ]
    }
   ],
   "source": [
    "try:\n",
    "    @variant(\"A\", abool='not a bool :( ')\n",
    "    class SomeNestedOption(OptionsBase):\n",
    "        abool : bool = option()\n",
    "\n",
    "    raise Exception('this should not happen, the above code must throw')\n",
    "except OptionsError:\n",
    "    pass"
   ]
  },
  {
   "cell_type": "markdown",
   "metadata": {},
   "source": [
    "Suboptions can be parsed from variant names."
   ]
  },
  {
   "cell_type": "code",
   "execution_count": 36,
   "metadata": {},
   "outputs": [
    {
     "name": "stdout",
     "output_type": "stream",
     "text": [
      "--method 'A(astr=None)'\n",
      "--method 'AAA(abool=True)'\n",
      "--method AA\n"
     ]
    }
   ],
   "source": [
    "print(ExampleOptions.parse_args(\"--method A\").str_wo_defaults)\n",
    "print(ExampleOptions.parse_args(\"--method AAA(abool=True)\").str_wo_defaults)\n",
    "print(ExampleOptions.parse_args(\"--method AA()\").str_wo_defaults)"
   ]
  },
  {
   "cell_type": "markdown",
   "metadata": {},
   "source": [
    "If corresponding subset of suboptions' fields is equal to all fields that are passed to some `variant`, it is shown in options string representation by the matching variant name and these fields are omitted from string:\n",
    "\n",
    "MethodA(aint=2,astr=AAA!) matches the AAA variant of MethodA:"
   ]
  },
  {
   "cell_type": "code",
   "execution_count": 37,
   "metadata": {},
   "outputs": [
    {
     "name": "stdout",
     "output_type": "stream",
     "text": [
      "--method 'AAA(abool=False)'\n"
     ]
    }
   ],
   "source": [
    "print(ExampleOptions.parse_args(\"--method MethodA(aint=2,astr=AAA!)\").str_wo_defaults)"
   ]
  },
  {
   "cell_type": "markdown",
   "metadata": {},
   "source": [
    "To print one fled of type derived from `OptionsBase` use `.as_variant` property:"
   ]
  },
  {
   "cell_type": "code",
   "execution_count": 38,
   "metadata": {},
   "outputs": [
    {
     "name": "stdout",
     "output_type": "stream",
     "text": [
      "'AAA(abool=False)'\n"
     ]
    }
   ],
   "source": [
    "o = ExampleOptions.parse_args(\"--method MethodA(aint=2,astr=AAA!)\")\n",
    "print(o.method.as_variant)"
   ]
  },
  {
   "cell_type": "markdown",
   "metadata": {},
   "source": [
    "## 7. Inheritance"
   ]
  },
  {
   "cell_type": "code",
   "execution_count": 39,
   "metadata": {},
   "outputs": [
    {
     "name": "stdout",
     "output_type": "stream",
     "text": [
      "--methodInA 'MA(aint=None)' --methodInB 'MC(bint=8,cstr=None)'\n"
     ]
    }
   ],
   "source": [
    "class MA(OptionsBase):\n",
    "    aint: int = option()\n",
    "\n",
    "class MB(OptionsBase):\n",
    "    bint: int = option(default=8)\n",
    "    \n",
    "class MC(MB):\n",
    "    cstr: str = option()\n",
    "\n",
    "class OptsA(OptionsBase):\n",
    "    methodInA: MA = option()\n",
    "    \n",
    "class OptsB(OptsA):\n",
    "    methodInB: MC = option()\n",
    "\n",
    "\n",
    "o = OptsB.parse_args(\"--methodInA MA --methodInB MC\")\n",
    "print(o)"
   ]
  },
  {
   "cell_type": "markdown",
   "metadata": {},
   "source": [
    "❗Inheritance does not fully work for fields of custom type: \n",
    "```python\n",
    "class MD(MC):\n",
    "    ...\n",
    "```\n",
    "String `--methodInB MD` can not be parsed unless `MD` is listed among all the types possible for `methodInB` field like this:\n",
    "```python\n",
    "methodInB: MD|MC = option()\n",
    "```"
   ]
  },
  {
   "cell_type": "markdown",
   "metadata": {},
   "source": [
    "# Limitations\n",
    "\n",
    "1. String value \"None\" can't be parsed, field value will be set to `None`\n",
    "2. Fields of type `str` should not contain spaces (as in ArgumentParser library)."
   ]
  },
  {
   "cell_type": "markdown",
   "metadata": {},
   "source": [
    "# Side effects\n",
    "1. All values can be set to `None` or parsed as `None` from string or script arguments (plain `ArgumentParser` forbids such strings).\n",
    "2. String value `\"None\"` can't be parsed, field value will be set to `None` (NoneType)\n",
    "3. Unlike in `ArgumentParser`, value of argument with non-default action can be set, e.g. in `ExampleOptions`:\n",
    "    - when parsing from string '--cnst', field `cnst` will contain 42 (plain `ArgumentParser` behaves this way)\n",
    "    - when parsing from string '--cnst 33', field cnst will contain 33 (plain `ArgumentParser` forbids such string)\n",
    "    - when parsing from string '--test', field test will contain True (plain `ArgumentParser` behaves this way)\n",
    "    - when parsing from string '--test True', field test will contain True (plain `ArgumentParser` forbids such string)\n",
    "    - when parsing from string '--test False', field test will contain False (plain `ArgumentParser` forbids such string)"
   ]
  }
 ],
 "metadata": {
  "kernelspec": {
   "display_name": "Python 3.10.0 ('dle_env')",
   "language": "python",
   "name": "python3"
  },
  "language_info": {
   "codemirror_mode": {
    "name": "ipython",
    "version": 3
   },
   "file_extension": ".py",
   "mimetype": "text/x-python",
   "name": "python",
   "nbconvert_exporter": "python",
   "pygments_lexer": "ipython3",
   "version": "3.10.4"
  },
  "orig_nbformat": 4,
  "vscode": {
   "interpreter": {
    "hash": "ba9ad16284564897e6ed674966d1b4d8d2397326c6125fd054977b36741eac77"
   }
  }
 },
 "nbformat": 4,
 "nbformat_minor": 2
}
